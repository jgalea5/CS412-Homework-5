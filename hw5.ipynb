{
 "cells": [
  {
   "cell_type": "code",
   "execution_count": 1,
   "metadata": {},
   "outputs": [],
   "source": [
    "import numpy as np\n",
    "from sklearn.model_selection import train_test_split"
   ]
  },
  {
   "cell_type": "code",
   "execution_count": 214,
   "metadata": {},
   "outputs": [
    {
     "name": "stdout",
     "output_type": "stream",
     "text": [
      "[  5.   1.   3.   5.   5.   5.   2.   2.   5.   4.   2.   3.   4.   5.\n",
      "   1.   1.   1.   1.   1.   5.   5.   4.   5.   4.   3.   1.   5.   5.\n",
      "   2.   1.   2.   4.   5.   1.   1.   2.   4.   5.   3.   2.   2.   4.\n",
      "   1.   5.   3.   1.   4.   5.   5.   5.   4.   5.   4.   3.   5.   2.\n",
      "   1.   3.   3.   5.   5.   3.   5.   2.   2.   4.   1.   1.   2.   4.\n",
      "   5.   3.   1.   2.   2.   3.   1.   4.   5.   5.   5.   5.   5.   5.\n",
      "   4.   5.   5.   1.   3.   3.   5.   5.   5.   3.   5.   4.   5.   5.\n",
      "   5.   1.   2.   4.   4.   5.   5.   1.   5.   1.   4.   2.   4.   4.\n",
      "   2.   5.   1.   2.   5.   5.   2.   4.   3.   1.   5.   5.   5.   3.\n",
      "   3.   2.   2.   5.   3.   5.   2.   4.   5.   1.   1.   1.   1.   5.\n",
      "  19. 166.  58.   1.   1.   2.   4.   1.   2.   1.]\n"
     ]
    }
   ],
   "source": [
    "print(train[1])"
   ]
  },
  {
   "cell_type": "code",
   "execution_count": 215,
   "metadata": {},
   "outputs": [],
   "source": []
  },
  {
   "cell_type": "code",
   "execution_count": 216,
   "metadata": {},
   "outputs": [],
   "source": [
    "with open('responses.de','a') as f3:\n",
    "    for i in dev:\n",
    "        for j in range(len(i)):\n",
    "            f3.write(str(i[j]))\n",
    "            if not (len(i)-1 == j):\n",
    "                f3.write(\",\")\n",
    "        f3.write(\"\\n\")"
   ]
  },
  {
   "cell_type": "code",
   "execution_count": 217,
   "metadata": {},
   "outputs": [],
   "source": [
    "with open('responses.te','a') as f3:\n",
    "    for i in test:\n",
    "        for j in range(len(i)):\n",
    "            f3.write(str(i[j]))\n",
    "            if not (len(i)-1 == j):\n",
    "                f3.write(\",\")\n",
    "        f3.write(\"\\n\")"
   ]
  },
  {
   "cell_type": "code",
   "execution_count": 2,
   "metadata": {},
   "outputs": [
    {
     "name": "stdout",
     "output_type": "stream",
     "text": [
      "[[5. 3. 2. ... 1. 1. 1.]\n",
      " [5. 1. 3. ... 1. 2. 1.]\n",
      " [5. 5. 2. ... 2. 1. 2.]\n",
      " ...\n",
      " [5. 3. 3. ... 1. 2. 1.]\n",
      " [5. 3. 4. ... 1. 1. 2.]\n",
      " [5. 2. 2. ... 1. 1. 2.]]\n",
      "701\n"
     ]
    }
   ],
   "source": [
    "train_data = np.genfromtxt('data/responses.tr', delimiter=\",\", usecols=np.arange(0,150))\n",
    "print(train_data)\n",
    "print(len(train_data))"
   ]
  },
  {
   "cell_type": "code",
   "execution_count": 3,
   "metadata": {
    "scrolled": false
   },
   "outputs": [
    {
     "name": "stdout",
     "output_type": "stream",
     "text": [
      "[[5. 3. 2. ... 1. 1. 1.]\n",
      " [5. 1. 3. ... 1. 2. 1.]\n",
      " [5. 5. 2. ... 2. 1. 2.]\n",
      " ...\n",
      " [5. 3. 3. ... 1. 2. 1.]\n",
      " [5. 3. 4. ... 1. 1. 2.]\n",
      " [5. 2. 2. ... 1. 1. 2.]]\n",
      "[3. 1. 3. 2. 4. 1. 3. 2. 4. 4. 1. 1. 2. 4. 3. 5. 3. 1. 3. 3. 3. 5. 2. 3.\n",
      " 1. 5. 4. 2. 3. 2. 2. 3. 2. 3. 2. 2. 2. 3. 5. 3. 2. 4. 3. 2. 3. 1. 4. 5.\n",
      " 3. 1. 5. 3. 2. 3. 4. 4. 5. 3. 3. 3. 2. 3. 1. 4. 2. 5. 3. 4. 2. 3. 3. 3.\n",
      " 4. 2. 3. 3. 1. 4. 3. 4. 3. 3. 1. 2. 4. 1. 2. 1. 3. 4. 2. 5. 5. 4. 3. 3.\n",
      " 3. 3. 3. 1. 5. 2. 3. 1. 3. 1. 2. 3. 5. 2. 2. 3. 4. 2. 2. 3. 2. 3. 3. 3.\n",
      " 2. 2. 3. 3. 2. 3. 4. 4. 1. 4. 3. 2. 3. 4. 4. 3. 2. 2. 5. 3. 5. 4. 2. 5.\n",
      " 3. 3. 5. 1. 4. 3. 3. 5. 3. 3. 1. 4. 1. 1. 3. 2. 4. 2. 4. 3. 2. 3. 2. 4.\n",
      " 4. 3. 4. 3. 3. 5. 5. 4. 3. 3. 3. 2. 1. 3. 3. 2. 2. 1. 5. 2. 3. 4. 2. 4.\n",
      " 3. 2. 3. 1. 3. 3. 4. 1. 3. 2. 2. 2. 4. 5. 5. 2. 5. 2. 4. 2. 3. 5. 2. 2.\n",
      " 2. 3. 3. 3. 4. 2. 3. 2. 2. 3. 3. 4. 4. 2. 3. 1. 4. 2. 2. 2. 3. 3. 3. 4.\n",
      " 1. 3. 2. 3. 2. 3. 4. 3. 3. 3. 4. 3. 2. 3. 2. 3. 2. 4. 3. 3. 3. 4. 3. 2.\n",
      " 2. 1. 4. 5. 2. 5. 2. 4. 4. 5. 4. 2. 5. 2. 2. 2. 3. 1. 3. 2. 4. 3. 1. 5.\n",
      " 3. 3. 3. 2. 2. 2. 2. 1. 3. 5. 2. 4. 2. 2. 2. 4. 3. 2. 4. 3. 2. 5. 2. 2.\n",
      " 4. 2. 3. 3. 3. 4. 3. 2. 4. 3. 5. 4. 2. 2. 1. 4. 2. 3. 3. 5. 1. 5. 4. 1.\n",
      " 2. 2. 3. 3. 2. 4. 4. 2. 3. 5. 3. 3. 4. 2. 3. 4. 5. 3. 3. 2. 3. 2. 2. 3.\n",
      " 4. 3. 2. 3. 3. 4. 3. 5. 4. 2. 4. 3. 4. 5. 2. 4. 1. 3. 5. 2. 1. 3. 5. 4.\n",
      " 3. 4. 1. 4. 5. 5. 4. 1. 3. 2. 1. 4. 3. 3. 3. 2. 2. 3. 2. 2. 4. 2. 2. 2.\n",
      " 1. 4. 3. 1. 3. 5. 1. 4. 1. 2. 1. 2. 3. 4. 3. 3. 5. 2. 1. 1. 4. 4. 3. 3.\n",
      " 2. 2. 1. 4. 4. 3. 3. 1. 2. 5. 2. 2. 3. 3. 0. 4. 3. 2. 1. 2. 4. 3. 2. 2.\n",
      " 3. 3. 3. 1. 2. 3. 5. 4. 3. 3. 3. 4. 4. 3. 3. 3. 5. 5. 3. 2. 4. 3. 1. 3.\n",
      " 2. 5. 3. 3. 5. 3. 4. 2. 3. 3. 2. 2. 3. 2. 4. 5. 2. 3. 2. 2. 3. 3. 3. 4.\n",
      " 3. 3. 3. 3. 4. 3. 2. 2. 2. 2. 2. 3. 3. 4. 3. 2. 1. 5. 1. 3. 1. 3. 2. 3.\n",
      " 4. 2. 3. 2. 5. 2. 2. 3. 2. 3. 4. 3. 3. 4. 1. 3. 4. 5. 4. 5. 3. 3. 3. 3.\n",
      " 4. 1. 5. 3. 3. 2. 3. 5. 5. 3. 3. 4. 3. 5. 5. 4. 3. 3. 2. 3. 3. 3. 5. 1.\n",
      " 3. 1. 3. 2. 3. 2. 3. 3. 2. 2. 3. 3. 1. 3. 4. 2. 5. 1. 2. 4. 1. 2. 3. 4.\n",
      " 3. 5. 2. 2. 4. 3. 3. 3. 3. 3. 3. 3. 4. 3. 4. 3. 4. 5. 3. 5. 2. 4. 5. 3.\n",
      " 2. 2. 2. 3. 2. 1. 2. 2. 2. 3. 3. 4. 5. 3. 1. 4. 1. 4. 3. 1. 1. 5. 2. 3.\n",
      " 3. 5. 4. 2. 3. 5. 2. 3. 1. 1. 2. 4. 4. 1. 3. 3. 3. 2. 3. 4. 4. 3. 5. 2.\n",
      " 2. 4. 2. 3. 3. 1. 4. 2. 5. 3. 4. 2. 4. 5. 1. 5. 1. 3. 2. 3. 3. 3. 2. 2.\n",
      " 3. 3. 1. 3. 3.]\n"
     ]
    }
   ],
   "source": [
    "Y = train_data[:,99]\n",
    "X = np.delete(train_data, np.s_[99:100], axis=1)\n",
    "print(X)\n",
    "print(Y)"
   ]
  },
  {
   "cell_type": "code",
   "execution_count": 4,
   "metadata": {},
   "outputs": [
    {
     "name": "stdout",
     "output_type": "stream",
     "text": [
      "196\n",
      "505\n"
     ]
    }
   ],
   "source": [
    "from baselines import *\n",
    "dumbclass = most_frequent()\n",
    "dumbclass.train(X,Y)"
   ]
  },
  {
   "cell_type": "code",
   "execution_count": 235,
   "metadata": {},
   "outputs": [],
   "source": [
    "file = []\n",
    "with open('young-people-survey/responses.csv', \"r\") as f:\n",
    "    for x in f:\n",
    "        file.append(x)"
   ]
  },
  {
   "cell_type": "code",
   "execution_count": 201,
   "metadata": {},
   "outputs": [
    {
     "name": "stdout",
     "output_type": "stream",
     "text": [
      "99\n"
     ]
    }
   ],
   "source": [
    "# print(file[0])\n",
    "split_d = file[0].split(\",\")\n",
    "for i in range(len(split_d)):\n",
    "    if split_d[i] == '\"Empathy\"':\n",
    "        print(i)"
   ]
  },
  {
   "cell_type": "code",
   "execution_count": null,
   "metadata": {},
   "outputs": [],
   "source": []
  }
 ],
 "metadata": {
  "kernelspec": {
   "display_name": "Python 3",
   "language": "python",
   "name": "python3"
  },
  "language_info": {
   "codemirror_mode": {
    "name": "ipython",
    "version": 3
   },
   "file_extension": ".py",
   "mimetype": "text/x-python",
   "name": "python",
   "nbconvert_exporter": "python",
   "pygments_lexer": "ipython3",
   "version": "3.6.5"
  }
 },
 "nbformat": 4,
 "nbformat_minor": 2
}
