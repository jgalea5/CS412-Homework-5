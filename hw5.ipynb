{
 "cells": [
  {
   "cell_type": "code",
   "execution_count": 1,
   "metadata": {
    "scrolled": true
   },
   "outputs": [
    {
     "name": "stdout",
     "output_type": "stream",
     "text": [
      "opening file...\n",
      "data stored...\n",
      "converting categorical data...\n",
      "data converted...\n",
      "new file \"formatted_responses.csv\" created\n",
      "splitting data into train/dev/test files\n",
      "creating responses.tr...\n",
      "file created...\n",
      "creating responses.de...\n",
      "file created...\n",
      "creating responses.te...\n",
      "file created...\n",
      "data split completed...\n"
     ]
    }
   ],
   "source": [
    "from preprocessing import *\n",
    "process_data()"
   ]
  },
  {
   "cell_type": "code",
   "execution_count": 3,
   "metadata": {
    "scrolled": false
   },
   "outputs": [
    {
     "name": "stdout",
     "output_type": "stream",
     "text": [
      "[[5. 3. 2. ... 1. 2. 2.]\n",
      " [4. 4. 2. ... 1. 1. 2.]\n",
      " [5. 5. 2. ... 1. 1. 2.]\n",
      " ...\n",
      " [5. 5. 5. ... 2. 1. 2.]\n",
      " [5. 3. 4. ... 1. 1. 2.]\n",
      " [5. 3. 3. ... 1. 2. 1.]]\n",
      "[[5. 2. 3. ... 1. 1. 1.]\n",
      " [5. 3. 4. ... 1. 1. 2.]\n",
      " [5. 4. 2. ... 2. 1. 2.]\n",
      " ...\n",
      " [4. 3. 1. ... 2. 1. 2.]\n",
      " [5. 3. 3. ... 1. 1. 2.]\n",
      " [5. 5. 4. ... 1. 2. 1.]]\n",
      "[[5. 5. 5. ... 1. 1. 2.]\n",
      " [5. 2. 1. ... 1. 1. 2.]\n",
      " [4. 3. 3. ... 1. 1. 2.]\n",
      " ...\n",
      " [5. 3. 4. ... 1. 1. 2.]\n",
      " [5. 3. 5. ... 1. 1. 2.]\n",
      " [5. 4. 4. ... 1. 1. 2.]]\n"
     ]
    }
   ],
   "source": [
    "Xtr, Ytr = feature_label_split(\"data/responses.tr\")\n",
    "Xde, Yde = feature_label_split(\"data/responses.de\")\n",
    "Xte, Yte = feature_label_split(\"data/responses.te\")\n",
    "print(Xtr)\n",
    "print(Xde)\n",
    "print(Xte)"
   ]
  },
  {
   "cell_type": "code",
   "execution_count": 36,
   "metadata": {},
   "outputs": [
    {
     "name": "stdout",
     "output_type": "stream",
     "text": [
      "0.7703281027104137\n",
      "0.3333333333333333\n"
     ]
    }
   ],
   "source": [
    "from sklearn import tree\n",
    "from pylab import *\n",
    "classifier = tree.DecisionTreeClassifier(max_depth=9)\n",
    "classifier.fit(Xtr, Ytr)\n",
    "\n",
    "s1 = classifier.predict(Xtr)\n",
    "s2 = classifier.predict(Xde)\n",
    "print(mean(s1==Ytr))\n",
    "print(mean(s2==Yde))\n",
    "#print(Yde)"
   ]
  },
  {
   "cell_type": "code",
   "execution_count": 4,
   "metadata": {},
   "outputs": [
    {
     "name": "stdout",
     "output_type": "stream",
     "text": [
      "196\n",
      "505\n"
     ]
    }
   ],
   "source": [
    "from baselines import *\n",
    "dumbclass = most_frequent()\n",
    "dumbclass.train(X,Y)"
   ]
  },
  {
   "cell_type": "code",
   "execution_count": null,
   "metadata": {},
   "outputs": [],
   "source": []
  }
 ],
 "metadata": {
  "kernelspec": {
   "display_name": "Python 3",
   "language": "python",
   "name": "python3"
  },
  "language_info": {
   "codemirror_mode": {
    "name": "ipython",
    "version": 3
   },
   "file_extension": ".py",
   "mimetype": "text/x-python",
   "name": "python",
   "nbconvert_exporter": "python",
   "pygments_lexer": "ipython3",
   "version": "3.6.5"
  }
 },
 "nbformat": 4,
 "nbformat_minor": 2
}
