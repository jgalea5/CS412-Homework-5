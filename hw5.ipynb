{
 "cells": [
  {
   "cell_type": "code",
   "execution_count": 12,
   "metadata": {
    "scrolled": false
   },
   "outputs": [
    {
     "name": "stdout",
     "output_type": "stream",
     "text": [
      "opening file...\n",
      "data stored...\n",
      "converting categorical data...\n",
      "data converted...\n",
      "new file \"formatted_responses.csv\" created\n",
      "splitting data into train/dev/test files\n",
      "creating responses.tr...\n",
      "file created...\n",
      "creating responses.de...\n",
      "file created...\n",
      "creating responses.te...\n",
      "file created...\n",
      "data split completed...\n"
     ]
    }
   ],
   "source": [
    "from preprocessing import *\n",
    "process_data()"
   ]
  },
  {
   "cell_type": "code",
   "execution_count": 24,
   "metadata": {
    "scrolled": false
   },
   "outputs": [
    {
     "name": "stdout",
     "output_type": "stream",
     "text": [
      "[[5. 3. 2. ... 1. 2. 2.]\n",
      " [4. 4. 2. ... 1. 1. 2.]\n",
      " [5. 5. 2. ... 1. 1. 2.]\n",
      " ...\n",
      " [5. 5. 5. ... 2. 1. 2.]\n",
      " [5. 3. 4. ... 1. 1. 2.]\n",
      " [5. 3. 3. ... 1. 2. 1.]]\n",
      "[[5. 2. 3. ... 1. 1. 1.]\n",
      " [5. 3. 4. ... 1. 1. 2.]\n",
      " [5. 4. 2. ... 2. 1. 2.]\n",
      " ...\n",
      " [4. 3. 1. ... 2. 1. 2.]\n",
      " [5. 3. 3. ... 1. 1. 2.]\n",
      " [5. 5. 4. ... 1. 2. 1.]]\n",
      "[[5. 5. 5. ... 1. 1. 2.]\n",
      " [5. 2. 1. ... 1. 1. 2.]\n",
      " [4. 3. 3. ... 1. 1. 2.]\n",
      " ...\n",
      " [5. 3. 4. ... 1. 1. 2.]\n",
      " [5. 3. 5. ... 1. 1. 2.]\n",
      " [5. 4. 4. ... 1. 1. 2.]]\n"
     ]
    }
   ],
   "source": [
    "from preprocessing import *\n",
    "Xtr, Ytr = feature_label_split(\"data/responses.tr\")\n",
    "Xde, Yde = feature_label_split(\"data/responses.de\")\n",
    "Xte, Yte = feature_label_split(\"data/responses.te\")\n",
    "print(Xtr)\n",
    "print(Xde)\n",
    "print(Xte)"
   ]
  },
  {
   "cell_type": "code",
   "execution_count": 20,
   "metadata": {},
   "outputs": [
    {
     "name": "stdout",
     "output_type": "stream",
     "text": [
      "0.6666666666666666\n"
     ]
    }
   ],
   "source": [
    "from pylab import *\n",
    "from baselines import *\n",
    "\n",
    "# baseline classifier\n",
    "# most_frequent class\n",
    "base = most_frequent()\n",
    "base.train(Xtr, Ytr)\n",
    "s3 = base.predict_all(Xde)\n",
    "\n",
    "print(mean(s3==Yde))"
   ]
  },
  {
   "cell_type": "code",
   "execution_count": 39,
   "metadata": {},
   "outputs": [
    {
     "name": "stdout",
     "output_type": "stream",
     "text": [
      "0.7450980392156863\n"
     ]
    }
   ],
   "source": [
    "from sklearn import tree\n",
    "from pylab import *\n",
    "\n",
    "# decision tree classifier\n",
    "classifier = tree.DecisionTreeClassifier(max_depth=6)\n",
    "classifier.fit(Xtr, Ytr)\n",
    "s1 = classifier.predict(Xde)\n",
    "print(mean(s1==Yde))"
   ]
  },
  {
   "cell_type": "code",
   "execution_count": 18,
   "metadata": {},
   "outputs": [
    {
     "name": "stdout",
     "output_type": "stream",
     "text": [
      "0.7058823529411765\n"
     ]
    }
   ],
   "source": [
    "from sklearn.svm import SVC\n",
    "from pylab import *\n",
    "\n",
    "# support vector machine\n",
    "classifier = SVC(kernel='poly')\n",
    "classifier.fit(Xtr, Ytr)\n",
    "svc_class = classifier.predict(Xde)\n",
    "print(mean(svc_class==Yde))"
   ]
  },
  {
   "cell_type": "code",
   "execution_count": 46,
   "metadata": {},
   "outputs": [
    {
     "name": "stdout",
     "output_type": "stream",
     "text": [
      "0.6470588235294118\n"
     ]
    }
   ],
   "source": [
    "from sklearn.linear_model import Perceptron\n",
    "\n",
    "# perceptron model\n",
    "classifier = Perceptron(random_state=0, max_iter= 850)\n",
    "classifier.fit(Xtr, Ytr)\n",
    "percept_model = classifier.predict(Xde)\n",
    "print(mean(percept_model==Yde))"
   ]
  },
  {
   "cell_type": "code",
   "execution_count": null,
   "metadata": {},
   "outputs": [],
   "source": []
  }
 ],
 "metadata": {
  "kernelspec": {
   "display_name": "Python 3",
   "language": "python",
   "name": "python3"
  },
  "language_info": {
   "codemirror_mode": {
    "name": "ipython",
    "version": 3
   },
   "file_extension": ".py",
   "mimetype": "text/x-python",
   "name": "python",
   "nbconvert_exporter": "python",
   "pygments_lexer": "ipython3",
   "version": "3.6.5"
  }
 },
 "nbformat": 4,
 "nbformat_minor": 2
}
