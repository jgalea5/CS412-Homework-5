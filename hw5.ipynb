{
 "cells": [
  {
   "cell_type": "code",
   "execution_count": 1,
   "metadata": {
    "scrolled": false
   },
   "outputs": [
    {
     "name": "stdout",
     "output_type": "stream",
     "text": [
      "splitting data/responses.tr into X samples and Y labels...\n",
      "done.\n",
      "splitting data/responses.de into X samples and Y labels...\n",
      "done.\n",
      "splitting data/responses.te into X samples and Y labels...\n",
      "done.\n"
     ]
    }
   ],
   "source": [
    "from preprocessing import *\n",
    "from numpy import *\n",
    "import seaborn as sns\n",
    "Xtr, Ytr = feature_label_split(\"data/responses.tr\")\n",
    "Xde, Yde = feature_label_split(\"data/responses.de\")\n",
    "Xte, Yte = feature_label_split(\"data/responses.te\")"
   ]
  },
  {
   "cell_type": "code",
   "execution_count": 2,
   "metadata": {},
   "outputs": [
    {
     "name": "stdout",
     "output_type": "stream",
     "text": [
      "0.8260869565217391\n",
      "0.6666666666666666\n",
      "0.7104136947218259\n"
     ]
    }
   ],
   "source": [
    "from pylab import *\n",
    "from baselines import *\n",
    "import numpy as np\n",
    "\n",
    "# baseline classifier\n",
    "# most_frequent class\n",
    "base = most_frequent()\n",
    "base.train(Xtr, Ytr)\n",
    "s1 = base.predict_all(Xtr)\n",
    "s2 = base.predict_all(Xde)\n",
    "s3 = base.predict_all(Xte)\n",
    "\n",
    "print(mean(s3==Yte))\n",
    "print(mean(s2==Yde))\n",
    "print(mean(s1==Ytr))"
   ]
  },
  {
   "cell_type": "code",
   "execution_count": 3,
   "metadata": {},
   "outputs": [
    {
     "name": "stdout",
     "output_type": "stream",
     "text": [
      "0.7549019607843137\n",
      "0.7922705314009661\n"
     ]
    }
   ],
   "source": [
    "from sklearn import tree\n",
    "from pylab import *\n",
    "\n",
    "# decision tree classifier\n",
    "classifier = tree.DecisionTreeClassifier(max_depth=5)\n",
    "classifier.fit(Xtr, Ytr)\n",
    "s1 = classifier.predict(Xde)\n",
    "s2 = classifier.predict(Xte)\n",
    "print(mean(s1==Yde))\n",
    "print(mean(s2==Yte))"
   ]
  },
  {
   "cell_type": "code",
   "execution_count": 4,
   "metadata": {},
   "outputs": [
    {
     "name": "stdout",
     "output_type": "stream",
     "text": [
      "0.7647058823529411\n",
      "0.7391304347826086\n"
     ]
    }
   ],
   "source": [
    "from sklearn.svm import SVC\n",
    "from pylab import *\n",
    "\n",
    "# support vector machine\n",
    "classifier = SVC(C = 100, kernel='poly', degree=2)\n",
    "classifier.fit(Xtr, Ytr)\n",
    "svc_class1 = classifier.predict(Xde)\n",
    "svc_class2 = classifier.predict(Xte)\n",
    "print(mean(svc_class1==Yde))\n",
    "print(mean(svc_class2==Yte))"
   ]
  },
  {
   "cell_type": "code",
   "execution_count": 5,
   "metadata": {},
   "outputs": [
    {
     "name": "stdout",
     "output_type": "stream",
     "text": [
      "0.6568627450980392\n"
     ]
    }
   ],
   "source": [
    "from sklearn.linear_model import Perceptron\n",
    "\n",
    "# perceptron model\n",
    "classifier = Perceptron(random_state=0, max_iter= 125)\n",
    "classifier.fit(Xtr, Ytr)\n",
    "percept_model = classifier.predict(Xde)\n",
    "print(mean(percept_model==Yde))"
   ]
  },
  {
   "cell_type": "code",
   "execution_count": 6,
   "metadata": {},
   "outputs": [
    {
     "name": "stdout",
     "output_type": "stream",
     "text": [
      "0.6470588235294118\n",
      "0.8309178743961353\n"
     ]
    }
   ],
   "source": [
    "from sklearn.neighbors import KNeighborsClassifier\n",
    "# K nearest Neighbor\n",
    "\n",
    "classifier = KNeighborsClassifier(n_neighbors=2, weights='uniform')\n",
    "classifier.fit(Xtr, Ytr)\n",
    "s1 = classifier.predict(Xde)\n",
    "s2 = classifier.predict(Xte)\n",
    "print(mean(s1==Yde))\n",
    "print(mean(s2==Yte))"
   ]
  },
  {
   "cell_type": "code",
   "execution_count": 7,
   "metadata": {
    "scrolled": true
   },
   "outputs": [
    {
     "name": "stdout",
     "output_type": "stream",
     "text": [
      "0.7352941176470589\n",
      "0.8502415458937198\n",
      "0.884450784593438\n"
     ]
    }
   ],
   "source": [
    "from sklearn.ensemble import RandomForestClassifier\n",
    "# random forest classifier\n",
    "\n",
    "rand_forest = RandomForestClassifier(n_estimators=1000,max_features=50, max_depth=5, random_state=22, criterion='gini').fit(Xtr,Ytr)\n",
    "s1 = rand_forest.predict(Xde)\n",
    "s2 = rand_forest.predict(Xte)\n",
    "s3 = rand_forest.predict(Xtr)\n",
    "\n",
    "print(mean(s1==Yde))\n",
    "print(mean(s2==Yte))\n",
    "print(mean(s3==Ytr))"
   ]
  },
  {
   "cell_type": "code",
   "execution_count": 8,
   "metadata": {},
   "outputs": [
    {
     "name": "stdout",
     "output_type": "stream",
     "text": [
      "0.6666666666666666\n",
      "0.8260869565217391\n"
     ]
    }
   ],
   "source": [
    "from sklearn.neural_network import MLPClassifier\n",
    "# neural network\n",
    "\n",
    "classifier = MLPClassifier(solver='lbfgs', hidden_layer_sizes=(7, 2), random_state=2)\n",
    "classifier.fit(Xtr,Ytr)\n",
    "s1 = classifier.predict(Xde)\n",
    "s2 = classifier.predict(Xte)\n",
    "\n",
    "print(mean(s1==Yde))\n",
    "print(mean(s2==Yte))"
   ]
  },
  {
   "cell_type": "code",
   "execution_count": 9,
   "metadata": {},
   "outputs": [
    {
     "name": "stdout",
     "output_type": "stream",
     "text": [
      "0.696078431372549\n",
      "0.8019323671497585\n"
     ]
    }
   ],
   "source": [
    "from sklearn.linear_model import LogisticRegression\n",
    "# logistic regression\n",
    "\n",
    "classifier = LogisticRegression(C=.4, random_state=12, multi_class='ovr', max_iter=200)\n",
    "classifier.fit(Xtr, Ytr)\n",
    "s1 = classifier.predict(Xde)\n",
    "s2 = classifier.predict(Xte)\n",
    "print(mean(s1==Yde))\n",
    "print(mean(s2==Yte))"
   ]
  },
  {
   "cell_type": "code",
   "execution_count": null,
   "metadata": {},
   "outputs": [],
   "source": []
  }
 ],
 "metadata": {
  "kernelspec": {
   "display_name": "Python 3",
   "language": "python",
   "name": "python3"
  },
  "language_info": {
   "codemirror_mode": {
    "name": "ipython",
    "version": 3
   },
   "file_extension": ".py",
   "mimetype": "text/x-python",
   "name": "python",
   "nbconvert_exporter": "python",
   "pygments_lexer": "ipython3",
   "version": "3.6.5"
  }
 },
 "nbformat": 4,
 "nbformat_minor": 2
}
